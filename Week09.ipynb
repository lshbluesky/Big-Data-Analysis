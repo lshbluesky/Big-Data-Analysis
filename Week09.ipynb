{
 "cells": [
  {
   "cell_type": "markdown",
   "id": "41401e00-aaaf-4fb2-a56d-afe8f0ab1df0",
   "metadata": {},
   "source": [
    "## 빅데이터 컴퓨팅 - 9주차"
   ]
  },
  {
   "cell_type": "markdown",
   "id": "9de4687c-c3f5-4d41-812e-465f7b387454",
   "metadata": {},
   "source": [
    "### 3.1장 - 국제우주정거장의 현재 위치"
   ]
  },
  {
   "cell_type": "code",
   "execution_count": 46,
   "id": "7342dc26-853c-4ee8-8ed3-10377623dd42",
   "metadata": {},
   "outputs": [
    {
     "name": "stdout",
     "output_type": "stream",
     "text": [
      "{\"message\": \"success\", \"iss_position\": {\"latitude\": \"16.1263\", \"longitude\": \"-38.0442\"}, \"timestamp\": 1730166146}\n",
      "{'message': 'success', 'iss_position': {'latitude': '16.1263', 'longitude': '-38.0442'}, 'timestamp': 1730166146}\n"
     ]
    }
   ],
   "source": [
    "import requests\n",
    "import json\n",
    "url = \"http://api.open-notify.org/iss-now.json\"\n",
    "r = requests.get(url)\n",
    "print(r.text)\n",
    "print(r.json())"
   ]
  },
  {
   "cell_type": "code",
   "execution_count": 44,
   "id": "a1ac4587-ebbf-432c-9196-4255c83215e7",
   "metadata": {},
   "outputs": [
    {
     "name": "stdout",
     "output_type": "stream",
     "text": [
      "{'latitude': '14.7383', 'longitude': '-39.1381'}\n",
      "{'latitude': '14.9618', 'longitude': '-38.9634'}\n",
      "{'latitude': '15.0362', 'longitude': '-38.9050'}\n",
      "{'latitude': '15.0859', 'longitude': '-38.8661'}\n",
      "{'latitude': '15.1603', 'longitude': '-38.8077'}\n",
      "{'latitude': '15.2595', 'longitude': '-38.7298'}\n",
      "{'latitude': '15.3339', 'longitude': '-38.6713'}\n",
      "{'latitude': '15.3835', 'longitude': '-38.6323'}\n",
      "{'latitude': '15.4579', 'longitude': '-38.5737'}\n",
      "{'latitude': '15.5074', 'longitude': '-38.5346'}\n"
     ]
    }
   ],
   "source": [
    "import requests\n",
    "import json\n",
    "import time\n",
    "url = \"http://api.open-notify.org/iss-now.json\"\n",
    "\n",
    "for i in range(10):\n",
    "    r = requests.get(url)\n",
    "    dict = r.json()\n",
    "    print(dict['iss_position'])\n",
    "    time.sleep(1)"
   ]
  },
  {
   "cell_type": "markdown",
   "id": "d0316a88-bc50-49b9-859e-9efa0e3a1790",
   "metadata": {},
   "source": [
    "### 3.1장 - 통화에 대한 환전 비율"
   ]
  },
  {
   "cell_type": "code",
   "execution_count": 56,
   "id": "d4d4b4d0-fbf8-4eb9-9b7e-d5a8df7ca8d1",
   "metadata": {},
   "outputs": [
    {
     "name": "stdout",
     "output_type": "stream",
     "text": [
      "0.00072298\n"
     ]
    }
   ],
   "source": [
    "import requests\n",
    "import json\n",
    "url = \"https://v6.exchangerate-api.com/v6/57cb4ffaae17552b820a29a8/latest/KRW\"\n",
    "r = requests.get(url)\n",
    "dict = r.json()\n",
    "print(dict['conversion_rates']['USD'])"
   ]
  },
  {
   "cell_type": "code",
   "execution_count": 74,
   "id": "603a28c2-6d9c-4821-9534-75c9b6d9b995",
   "metadata": {},
   "outputs": [
    {
     "name": "stdout",
     "output_type": "stream",
     "text": [
      "            0\n",
      "KRW  1.000000\n",
      "AED  0.002654\n",
      "AFN  0.048080\n",
      "ALL  0.065820\n",
      "AMD  0.280000\n",
      "..        ...\n",
      "XPF  0.079670\n",
      "YER  0.180500\n",
      "ZAR  0.012800\n",
      "ZMW  0.019240\n",
      "ZWL  0.020510\n",
      "\n",
      "[162 rows x 1 columns]\n"
     ]
    }
   ],
   "source": [
    "import requests\n",
    "import json\n",
    "import pandas as pd\n",
    "url = \"https://v6.exchangerate-api.com/v6/57cb4ffaae17552b820a29a8/latest/KRW\"\n",
    "r = requests.get(url)\n",
    "dict = r.json()\n",
    "df = pd.DataFrame.from_dict(dict['conversion_rates'], orient='index')\n",
    "print(df)\n",
    "df.to_excel('KRW_exchange.xlsx')"
   ]
  },
  {
   "cell_type": "markdown",
   "id": "4deb8720-0319-41a0-a59b-c473e5c869ad",
   "metadata": {},
   "source": [
    "### 3.2장 - 단기예보 데이터 불러오기"
   ]
  },
  {
   "cell_type": "code",
   "execution_count": 132,
   "id": "58f36d9b-4e61-482a-99b7-14be266b7563",
   "metadata": {},
   "outputs": [
    {
     "name": "stdout",
     "output_type": "stream",
     "text": [
      "{\"response\":{\"header\":{\"resultCode\":\"00\",\"resultMsg\":\"NORMAL_SERVICE\"},\"body\":{\"dataType\":\"JSON\",\"items\":{\"item\":[{\"baseDate\":\"20241028\",\"baseTime\":\"1400\",\"category\":\"PTY\",\"nx\":55,\"ny\":120,\"obsrValue\":\"0\"},{\"baseDate\":\"20241028\",\"baseTime\":\"1400\",\"category\":\"REH\",\"nx\":55,\"ny\":120,\"obsrValue\":\"71\"},{\"baseDate\":\"20241028\",\"baseTime\":\"1400\",\"category\":\"RN1\",\"nx\":55,\"ny\":120,\"obsrValue\":\"0\"},{\"baseDate\":\"20241028\",\"baseTime\":\"1400\",\"category\":\"T1H\",\"nx\":55,\"ny\":120,\"obsrValue\":\"19.2\"},{\"baseDate\":\"20241028\",\"baseTime\":\"1400\",\"category\":\"UUU\",\"nx\":55,\"ny\":120,\"obsrValue\":\"-0.3\"},{\"baseDate\":\"20241028\",\"baseTime\":\"1400\",\"category\":\"VEC\",\"nx\":55,\"ny\":120,\"obsrValue\":\"53\"},{\"baseDate\":\"20241028\",\"baseTime\":\"1400\",\"category\":\"VVV\",\"nx\":55,\"ny\":120,\"obsrValue\":\"-0.2\"},{\"baseDate\":\"20241028\",\"baseTime\":\"1400\",\"category\":\"WSD\",\"nx\":55,\"ny\":120,\"obsrValue\":\"0.5\"}]},\"pageNo\":1,\"numOfRows\":10,\"totalCount\":8}}}\n"
     ]
    }
   ],
   "source": [
    "import requests\n",
    "import json\n",
    "import pandas as pd\n",
    "url = \"http://apis.data.go.kr/1360000/VilageFcstInfoService_2.0/getUltraSrtNcst\"\n",
    "queryParams = '?' + \\\n",
    "    'ServiceKey=' + '6Am%2BIufIFctg88%2BJZz5LjiUDp%2FenRhMVKWNhDheXqXjsYrz3961fupnYg9Rv%2FYhUe%2B9%2FJL6AQyhQzKmGzIKsSQ%3D%3D' + \\\n",
    "    '&pageNo=' + '1' + \\\n",
    "    '&numOfRows=' + '10' + \\\n",
    "    '&dataType=' + 'JSON' + \\\n",
    "    '&base_date=' + '20241028' + \\\n",
    "    '&base_time=' + '1400' + \\\n",
    "    '&nx=' + '55' + \\\n",
    "    '&ny=' + '120'\n",
    "\n",
    "result = requests.get(url + queryParams)\n",
    "print(result.text)"
   ]
  },
  {
   "cell_type": "markdown",
   "id": "60754190-bf9b-493c-a800-9a58f40c9619",
   "metadata": {},
   "source": [
    "### 3.3장 - Iris 데이터"
   ]
  },
  {
   "cell_type": "code",
   "execution_count": 163,
   "id": "ebf415dc-116f-4331-b8bb-80a4a3f03e51",
   "metadata": {},
   "outputs": [
    {
     "name": "stdout",
     "output_type": "stream",
     "text": [
      "   sepal_length  sepal_width  petal_length  petal_width species\n",
      "0           5.1          3.5           1.4          0.2  setosa\n",
      "1           4.9          3.0           1.4          0.2  setosa\n",
      "2           4.7          3.2           1.3          0.2  setosa\n",
      "3           4.6          3.1           1.5          0.2  setosa\n",
      "4           5.0          3.6           1.4          0.2  setosa\n",
      "       sepal_length  sepal_width  petal_length  petal_width\n",
      "count    150.000000   150.000000    150.000000   150.000000\n",
      "mean       5.843333     3.057333      3.758000     1.199333\n",
      "std        0.828066     0.435866      1.765298     0.762238\n",
      "min        4.300000     2.000000      1.000000     0.100000\n",
      "25%        5.100000     2.800000      1.600000     0.300000\n",
      "50%        5.800000     3.000000      4.350000     1.300000\n",
      "75%        6.400000     3.300000      5.100000     1.800000\n",
      "max        7.900000     4.400000      6.900000     2.500000\n"
     ]
    }
   ],
   "source": [
    "import seaborn as sns\n",
    "df = sns.load_dataset('iris')\n",
    "print(df.head())\n",
    "print(df.describe())"
   ]
  },
  {
   "cell_type": "markdown",
   "id": "b4ace522-40c9-4a2a-9f63-0ec0c175d4e4",
   "metadata": {},
   "source": [
    "### 3.3장 - Tips 데이터"
   ]
  },
  {
   "cell_type": "code",
   "execution_count": 143,
   "id": "d2d435cc-192f-46e4-8b7b-6c98cc07989a",
   "metadata": {},
   "outputs": [
    {
     "name": "stdout",
     "output_type": "stream",
     "text": [
      "   total_bill   tip     sex smoker  day    time  size\n",
      "0       16.99  1.01  Female     No  Sun  Dinner     2\n",
      "1       10.34  1.66    Male     No  Sun  Dinner     3\n",
      "2       21.01  3.50    Male     No  Sun  Dinner     3\n",
      "3       23.68  3.31    Male     No  Sun  Dinner     2\n",
      "4       24.59  3.61  Female     No  Sun  Dinner     4\n",
      "       total_bill         tip        size\n",
      "count  244.000000  244.000000  244.000000\n",
      "mean    19.785943    2.998279    2.569672\n",
      "std      8.902412    1.383638    0.951100\n",
      "min      3.070000    1.000000    1.000000\n",
      "25%     13.347500    2.000000    2.000000\n",
      "50%     17.795000    2.900000    2.000000\n",
      "75%     24.127500    3.562500    3.000000\n",
      "max     50.810000   10.000000    6.000000\n"
     ]
    }
   ],
   "source": [
    "import seaborn as sns\n",
    "df = sns.load_dataset('tips')\n",
    "print(df.head())\n",
    "print(df.describe())"
   ]
  },
  {
   "cell_type": "markdown",
   "id": "6e5886be-f866-4fd4-ad9a-d810827c94d6",
   "metadata": {},
   "source": [
    "### 3.3장 - Titanic 데이터"
   ]
  },
  {
   "cell_type": "code",
   "execution_count": 155,
   "id": "e14168ae-86f4-4ca8-be08-e892df018364",
   "metadata": {},
   "outputs": [
    {
     "name": "stdout",
     "output_type": "stream",
     "text": [
      "   survived  pclass     sex   age  sibsp  parch     fare embarked  class  \\\n",
      "0         0       3    male  22.0      1      0   7.2500        S  Third   \n",
      "1         1       1  female  38.0      1      0  71.2833        C  First   \n",
      "2         1       3  female  26.0      0      0   7.9250        S  Third   \n",
      "3         1       1  female  35.0      1      0  53.1000        S  First   \n",
      "4         0       3    male  35.0      0      0   8.0500        S  Third   \n",
      "\n",
      "     who  adult_male deck  embark_town alive  alone  \n",
      "0    man        True  NaN  Southampton    no  False  \n",
      "1  woman       False    C    Cherbourg   yes  False  \n",
      "2  woman       False  NaN  Southampton   yes   True  \n",
      "3  woman       False    C  Southampton   yes  False  \n",
      "4    man        True  NaN  Southampton    no   True  \n",
      "         survived      pclass         age       sibsp       parch        fare\n",
      "count  891.000000  891.000000  714.000000  891.000000  891.000000  891.000000\n",
      "mean     0.383838    2.308642   29.699118    0.523008    0.381594   32.204208\n",
      "std      0.486592    0.836071   14.526497    1.102743    0.806057   49.693429\n",
      "min      0.000000    1.000000    0.420000    0.000000    0.000000    0.000000\n",
      "25%      0.000000    2.000000   20.125000    0.000000    0.000000    7.910400\n",
      "50%      0.000000    3.000000   28.000000    0.000000    0.000000   14.454200\n",
      "75%      1.000000    3.000000   38.000000    1.000000    0.000000   31.000000\n",
      "max      1.000000    3.000000   80.000000    8.000000    6.000000  512.329200\n"
     ]
    }
   ],
   "source": [
    "import seaborn as sns\n",
    "df = sns.load_dataset('titanic')\n",
    "print(df.head())\n",
    "print(df.describe())"
   ]
  },
  {
   "cell_type": "markdown",
   "id": "6609bcd2-b09d-48bf-b1c8-143e11bb1d84",
   "metadata": {},
   "source": [
    "### 3.3장 - 펭귄 데이터"
   ]
  },
  {
   "cell_type": "code",
   "execution_count": 161,
   "id": "3d1e6e95-4d98-4ed5-b3db-683042a4f218",
   "metadata": {},
   "outputs": [
    {
     "name": "stdout",
     "output_type": "stream",
     "text": [
      "  species     island  bill_length_mm  bill_depth_mm  flipper_length_mm  \\\n",
      "0  Adelie  Torgersen            39.1           18.7              181.0   \n",
      "1  Adelie  Torgersen            39.5           17.4              186.0   \n",
      "2  Adelie  Torgersen            40.3           18.0              195.0   \n",
      "3  Adelie  Torgersen             NaN            NaN                NaN   \n",
      "4  Adelie  Torgersen            36.7           19.3              193.0   \n",
      "\n",
      "   body_mass_g     sex  \n",
      "0       3750.0    Male  \n",
      "1       3800.0  Female  \n",
      "2       3250.0  Female  \n",
      "3          NaN     NaN  \n",
      "4       3450.0  Female  \n",
      "       bill_length_mm  bill_depth_mm  flipper_length_mm  body_mass_g\n",
      "count      342.000000     342.000000         342.000000   342.000000\n",
      "mean        43.921930      17.151170         200.915205  4201.754386\n",
      "std          5.459584       1.974793          14.061714   801.954536\n",
      "min         32.100000      13.100000         172.000000  2700.000000\n",
      "25%         39.225000      15.600000         190.000000  3550.000000\n",
      "50%         44.450000      17.300000         197.000000  4050.000000\n",
      "75%         48.500000      18.700000         213.000000  4750.000000\n",
      "max         59.600000      21.500000         231.000000  6300.000000\n"
     ]
    }
   ],
   "source": [
    "import seaborn as sns\n",
    "df = sns.load_dataset('penguins')\n",
    "print(df.head())\n",
    "print(df.describe())"
   ]
  },
  {
   "cell_type": "markdown",
   "id": "10a347a0-2060-4095-94b3-c3144de35caf",
   "metadata": {},
   "source": [
    "### 3.3장 - sklearn 라이브러리에서 제공하는 diabetes 데이터"
   ]
  },
  {
   "cell_type": "code",
   "execution_count": 191,
   "id": "6887a076-2f14-4bd1-9f7d-d7056abd965f",
   "metadata": {},
   "outputs": [
    {
     "name": "stdout",
     "output_type": "stream",
     "text": [
      "        age       sex       bmi        bp        s1        s2        s3  \\\n",
      "0  0.038076  0.050680  0.061696  0.021872 -0.044223 -0.034821 -0.043401   \n",
      "1 -0.001882 -0.044642 -0.051474 -0.026328 -0.008449 -0.019163  0.074412   \n",
      "2  0.085299  0.050680  0.044451 -0.005670 -0.045599 -0.034194 -0.032356   \n",
      "3 -0.089063 -0.044642 -0.011595 -0.036656  0.012191  0.024991 -0.036038   \n",
      "4  0.005383 -0.044642 -0.036385  0.021872  0.003935  0.015596  0.008142   \n",
      "\n",
      "         s4        s5        s6  \n",
      "0 -0.002592  0.019907 -0.017646  \n",
      "1 -0.039493 -0.068332 -0.092204  \n",
      "2 -0.002592  0.002861 -0.025930  \n",
      "3  0.034309  0.022688 -0.009362  \n",
      "4 -0.002592 -0.031988 -0.046641  \n",
      "count    4.420000e+02\n",
      "mean    -2.511817e-19\n",
      "std      4.761905e-02\n",
      "min     -1.072256e-01\n",
      "25%     -3.729927e-02\n",
      "50%      5.383060e-03\n",
      "75%      3.807591e-02\n",
      "max      1.107267e-01\n",
      "Name: age, dtype: float64\n"
     ]
    }
   ],
   "source": [
    "from sklearn import datasets\n",
    "import pandas as pd\n",
    "diabetes = datasets.load_diabetes()\n",
    "df_diabetes = pd.DataFrame(diabetes.data, columns = diabetes.feature_names)\n",
    "print(df_diabetes.head())\n",
    "print(df_diabetes.age.describe())"
   ]
  },
  {
   "cell_type": "markdown",
   "id": "6d1d2588-2c17-4b0b-9ff3-ac838d566e4c",
   "metadata": {},
   "source": [
    "### 3.3장 - sklearn 라이브러리에서 제공하는 wine 데이터"
   ]
  },
  {
   "cell_type": "code",
   "execution_count": 189,
   "id": "459e44ac-27fa-41f5-a6f1-2f5e8f9f6a99",
   "metadata": {},
   "outputs": [
    {
     "name": "stdout",
     "output_type": "stream",
     "text": [
      "   alcohol  malic_acid   ash  alcalinity_of_ash  magnesium  total_phenols  \\\n",
      "0    14.23        1.71  2.43               15.6      127.0           2.80   \n",
      "1    13.20        1.78  2.14               11.2      100.0           2.65   \n",
      "2    13.16        2.36  2.67               18.6      101.0           2.80   \n",
      "3    14.37        1.95  2.50               16.8      113.0           3.85   \n",
      "4    13.24        2.59  2.87               21.0      118.0           2.80   \n",
      "\n",
      "   flavanoids  nonflavanoid_phenols  proanthocyanins  color_intensity   hue  \\\n",
      "0        3.06                  0.28             2.29             5.64  1.04   \n",
      "1        2.76                  0.26             1.28             4.38  1.05   \n",
      "2        3.24                  0.30             2.81             5.68  1.03   \n",
      "3        3.49                  0.24             2.18             7.80  0.86   \n",
      "4        2.69                  0.39             1.82             4.32  1.04   \n",
      "\n",
      "   od280/od315_of_diluted_wines  proline  \n",
      "0                          3.92   1065.0  \n",
      "1                          3.40   1050.0  \n",
      "2                          3.17   1185.0  \n",
      "3                          3.45   1480.0  \n",
      "4                          2.93    735.0  \n",
      "count    178.000000\n",
      "mean      13.000618\n",
      "std        0.811827\n",
      "min       11.030000\n",
      "25%       12.362500\n",
      "50%       13.050000\n",
      "75%       13.677500\n",
      "max       14.830000\n",
      "Name: alcohol, dtype: float64\n"
     ]
    }
   ],
   "source": [
    "from sklearn import datasets\n",
    "import pandas as pd\n",
    "wine = datasets.load_wine()\n",
    "df_wine = pd.DataFrame(wine.data, columns = wine.feature_names)\n",
    "print(df_wine.head())\n",
    "print(df_wine.alcohol.describe())"
   ]
  },
  {
   "cell_type": "code",
   "execution_count": null,
   "id": "021f619c-7619-413d-bc34-c05c1254dd4b",
   "metadata": {},
   "outputs": [],
   "source": []
  }
 ],
 "metadata": {
  "kernelspec": {
   "display_name": "Python 3 (ipykernel)",
   "language": "python",
   "name": "python3"
  },
  "language_info": {
   "codemirror_mode": {
    "name": "ipython",
    "version": 3
   },
   "file_extension": ".py",
   "mimetype": "text/x-python",
   "name": "python",
   "nbconvert_exporter": "python",
   "pygments_lexer": "ipython3",
   "version": "3.12.4"
  }
 },
 "nbformat": 4,
 "nbformat_minor": 5
}
