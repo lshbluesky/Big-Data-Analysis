{
 "cells": [
  {
   "cell_type": "markdown",
   "id": "a65cf470-1284-4168-b567-2c04c6ec9b20",
   "metadata": {},
   "source": [
    "## 파이썬을 활용한 빅데이터 분석 개론\n",
    "### 2.2장 연습문제"
   ]
  },
  {
   "cell_type": "code",
   "execution_count": 10,
   "id": "e9c774c7-5052-4327-9660-f5bfa7510c52",
   "metadata": {},
   "outputs": [
    {
     "name": "stdout",
     "output_type": "stream",
     "text": [
      "25/4 = 6.25\n"
     ]
    }
   ],
   "source": [
    "#2\n",
    "print('25/4 =',25/4)"
   ]
  },
  {
   "cell_type": "code",
   "execution_count": 19,
   "id": "00178940-31a1-4134-9a3e-891c94282bbf",
   "metadata": {},
   "outputs": [
    {
     "name": "stdout",
     "output_type": "stream",
     "text": [
      "Program is Python\n"
     ]
    }
   ],
   "source": [
    "#4\n",
    "print('Program'+' is '+'Python')"
   ]
  },
  {
   "cell_type": "code",
   "execution_count": 20,
   "id": "2b28f826-c1dd-4595-a70f-b78f30e60049",
   "metadata": {},
   "outputs": [
    {
     "name": "stdin",
     "output_type": "stream",
     "text": [
      "이름 입력 : 홍길동\n",
      "학번 입력 : 20245438\n"
     ]
    },
    {
     "name": "stdout",
     "output_type": "stream",
     "text": [
      "1 이름 : 홍길동 학번 : 20245438\n",
      "2 이름 : 홍길동 학번 : 20245438\n",
      "3 이름 : 홍길동 학번 : 20245438\n",
      "4 이름 : 홍길동 학번 : 20245438\n",
      "5 이름 : 홍길동 학번 : 20245438\n"
     ]
    }
   ],
   "source": [
    "#8\n",
    "name = input('이름 입력 :')\n",
    "sid = int(input('학번 입력 :'))\n",
    "for i in range(1, 6, 1):\n",
    "    print(i, '이름 :', name, '학번 :', sid)"
   ]
  },
  {
   "cell_type": "code",
   "execution_count": 15,
   "id": "c348b195-87f4-4f15-8eb6-6774957f83d0",
   "metadata": {},
   "outputs": [
    {
     "name": "stdin",
     "output_type": "stream",
     "text": [
      "임의의 정수 n을 입력하고 Enter : 10\n"
     ]
    },
    {
     "name": "stdout",
     "output_type": "stream",
     "text": [
      "합계 : 55\n"
     ]
    }
   ],
   "source": [
    "#12\n",
    "n = int(input('임의의 정수 n을 입력하고 Enter :'))\n",
    "sum = 0\n",
    "for i in range(1, n+1, 1):\n",
    "    sum = sum + i\n",
    "print('합계 :', sum)"
   ]
  },
  {
   "cell_type": "code",
   "execution_count": 2,
   "id": "db544ad0-ba57-4808-b3d7-c16299cf1436",
   "metadata": {},
   "outputs": [
    {
     "name": "stdin",
     "output_type": "stream",
     "text": [
      "이름 입력 : 홍길동\n",
      "학번 입력 : 20245438\n"
     ]
    },
    {
     "name": "stdout",
     "output_type": "stream",
     "text": [
      "1 이름 : 홍길동 학번 : 20245438\n",
      "2 이름 : 홍길동 학번 : 20245438\n",
      "3 이름 : 홍길동 학번 : 20245438\n",
      "4 이름 : 홍길동 학번 : 20245438\n",
      "5 이름 : 홍길동 학번 : 20245438\n"
     ]
    }
   ],
   "source": [
    "#13\n",
    "def print_name(name, sid):\n",
    "    for i in range(1, 6, 1):\n",
    "        print(i, '이름 :', name, '학번 :', sid)\n",
    "\n",
    "name = input('이름 입력 :')\n",
    "sid = int(input('학번 입력 :'))\n",
    "print_name(name, sid)"
   ]
  },
  {
   "cell_type": "code",
   "execution_count": 21,
   "id": "dcd99aaf-5092-4689-893a-bac743c00f63",
   "metadata": {},
   "outputs": [
    {
     "name": "stdin",
     "output_type": "stream",
     "text": [
      "임의의 정수 n을 입력하고 Enter : 10\n"
     ]
    },
    {
     "name": "stdout",
     "output_type": "stream",
     "text": [
      "1부터 10 까지의 합계 : 55\n",
      "1부터 10 까지의 합계 : 55\n"
     ]
    }
   ],
   "source": [
    "#14\n",
    "#for 문을 이용한 함수\n",
    "def for_sum(n):\n",
    "    sum = 0\n",
    "    for i in range(1, n+1, 1):\n",
    "        sum = sum + i\n",
    "    print('1부터', n, '까지의 합계 :', sum)\n",
    "\n",
    "#while 문을 이용한 함수\n",
    "def while_sum(n):\n",
    "    i = 1\n",
    "    sum = 0\n",
    "    while(i <= n):\n",
    "        sum = sum + i\n",
    "        i = i + 1\n",
    "    print('1부터', n, '까지의 합계 :', sum)\n",
    "\n",
    "n = int(input('임의의 정수 n을 입력하고 Enter :'))\n",
    "for_sum(n)\n",
    "while_sum(n)"
   ]
  }
 ],
 "metadata": {
  "kernelspec": {
   "display_name": "Python 3 (ipykernel)",
   "language": "python",
   "name": "python3"
  },
  "language_info": {
   "codemirror_mode": {
    "name": "ipython",
    "version": 3
   },
   "file_extension": ".py",
   "mimetype": "text/x-python",
   "name": "python",
   "nbconvert_exporter": "python",
   "pygments_lexer": "ipython3",
   "version": "3.12.6"
  }
 },
 "nbformat": 4,
 "nbformat_minor": 5
}
