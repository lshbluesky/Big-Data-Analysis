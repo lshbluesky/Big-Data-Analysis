{
 "cells": [
  {
   "cell_type": "markdown",
   "id": "e01bd5d9-3b60-46c8-81bd-911932a8f43c",
   "metadata": {},
   "source": [
    "## 빅데이터 컴퓨팅 - 10주차"
   ]
  },
  {
   "cell_type": "markdown",
   "id": "152d5cf5-2337-44ee-b040-601e1706975d",
   "metadata": {},
   "source": [
    "### 4.1장 - 예제 4-5"
   ]
  },
  {
   "cell_type": "code",
   "execution_count": 13,
   "id": "e28bad78-7676-40d2-bfdb-5413d492c622",
   "metadata": {},
   "outputs": [
    {
     "name": "stdout",
     "output_type": "stream",
     "text": [
      "[5 7 9]\n",
      "[-3 -3 -3]\n",
      "[ 4 10 18]\n",
      "[0.25 0.4  0.5 ]\n"
     ]
    }
   ],
   "source": [
    "import numpy as np\n",
    "a = np.array([1, 2, 3])\n",
    "b = np.array([4, 5, 6])\n",
    "\n",
    "c = np.add(a, b)\n",
    "print(c)\n",
    "\n",
    "c = np.subtract(a, b)\n",
    "print(c)\n",
    "\n",
    "c = np.multiply(a, b)\n",
    "print(c)\n",
    "\n",
    "c = np.divide(a, b)\n",
    "print(c)"
   ]
  },
  {
   "cell_type": "markdown",
   "id": "ff734621-01a0-4e24-8fcf-ae2c3a7c8bb5",
   "metadata": {},
   "source": [
    "### 4.1장 - 예제 4-6"
   ]
  },
  {
   "cell_type": "code",
   "execution_count": 11,
   "id": "02852e17-6452-4de5-bf4c-baa6d29a0a58",
   "metadata": {},
   "outputs": [
    {
     "name": "stdout",
     "output_type": "stream",
     "text": [
      "[[ 6  8]\n",
      " [10 12]]\n",
      "[[19 22]\n",
      " [43 50]]\n"
     ]
    }
   ],
   "source": [
    "import numpy as np\n",
    "list1 = [[1, 2], [3, 4]]\n",
    "list2 = [[5, 6], [7, 8]]\n",
    "\n",
    "a = np.array(list1)\n",
    "b = np.array(list2)\n",
    "\n",
    "c = np.add(a, b)\n",
    "print(c)\n",
    "\n",
    "c = np.dot(a, b)\n",
    "print(c)"
   ]
  },
  {
   "cell_type": "markdown",
   "id": "53595c3b-4998-4cfc-ba5d-4f2e8ced19d9",
   "metadata": {},
   "source": [
    "### 4.1장 - 예제 4-7"
   ]
  },
  {
   "cell_type": "code",
   "execution_count": 16,
   "id": "78748674-9178-4da0-a1c8-a681249bdf8c",
   "metadata": {},
   "outputs": [
    {
     "name": "stdout",
     "output_type": "stream",
     "text": [
      "28\n",
      "4.0\n",
      "2.0\n",
      "4.0\n",
      "1\n",
      "7\n",
      "[ 1  3  6 10 15 21 28]\n",
      "[   1    2    6   24  120  720 5040]\n"
     ]
    }
   ],
   "source": [
    "import numpy as np\n",
    "arr = np.array([1, 2, 3, 4, 5, 6, 7])\n",
    "\n",
    "print(arr.sum())\n",
    "print(arr.mean())\n",
    "print(arr.std())\n",
    "print(arr.var())\n",
    "print(arr.min())\n",
    "print(arr.max())\n",
    "print(arr.cumsum())\n",
    "print(arr.cumprod())"
   ]
  },
  {
   "cell_type": "markdown",
   "id": "cad3678d-fc04-49f5-82bd-5952280bd0fd",
   "metadata": {},
   "source": [
    "### 4.1장 - 예제 4-8"
   ]
  },
  {
   "cell_type": "code",
   "execution_count": 31,
   "id": "c02d4f68-f66d-4595-b69e-d187e7c34d89",
   "metadata": {},
   "outputs": [
    {
     "name": "stdout",
     "output_type": "stream",
     "text": [
      "[0 0 0 0 0]\n",
      "[[0 0]\n",
      " [0 0]]\n",
      "[1. 1. 1. 1. 1.]\n",
      "[9 9 9 9 9]\n",
      "[1. 1. 1. 1. 1.]\n",
      "[[1. 0. 0.]\n",
      " [0. 1. 0.]\n",
      " [0. 0. 1.]]\n"
     ]
    }
   ],
   "source": [
    "import numpy as np\n",
    "a = np.zeros(5, dtype = int)\n",
    "print(a)\n",
    "\n",
    "a = np.zeros((2, 2), dtype = int)\n",
    "print(a)\n",
    "\n",
    "a = np.ones(5, dtype = float)\n",
    "print(a)\n",
    "\n",
    "a = np.full(5, 9)\n",
    "print(a)\n",
    "\n",
    "a = np.empty(5)\n",
    "print(a)\n",
    "\n",
    "a = np.eye(3)\n",
    "print(a)"
   ]
  },
  {
   "cell_type": "markdown",
   "id": "7b5dd0ae-b571-4f96-9603-7dd2e48eb1b6",
   "metadata": {},
   "source": [
    "### 4.1장 - 예제 4-9"
   ]
  },
  {
   "cell_type": "code",
   "execution_count": 36,
   "id": "9cfcff01-f53e-4403-a282-875a18aed98b",
   "metadata": {},
   "outputs": [
    {
     "name": "stdout",
     "output_type": "stream",
     "text": [
      "[0 1 2]\n",
      "[-1.  -0.5  0.   0.5]\n",
      "[0.   0.25 0.5  0.75 1.  ]\n"
     ]
    }
   ],
   "source": [
    "import numpy as np\n",
    "a = np.arange(3)\n",
    "print(a)\n",
    "\n",
    "a = np.arange(-1, 1, 0.5)\n",
    "print(a)\n",
    "\n",
    "a = np.linspace(0, 1, 5)\n",
    "print(a)"
   ]
  },
  {
   "cell_type": "markdown",
   "id": "527bbc4e-adcb-4b14-8f1e-dae9814686af",
   "metadata": {},
   "source": [
    "### 4.2장 - 예제 4-10"
   ]
  },
  {
   "cell_type": "code",
   "execution_count": 88,
   "id": "b10f0eca-af5c-442e-8919-75a4adc7e609",
   "metadata": {},
   "outputs": [
    {
     "name": "stdout",
     "output_type": "stream",
     "text": [
      "   a  b\n",
      "0  1  4\n",
      "1  2  5\n",
      "2  3  6 \n",
      "\n",
      "   c   d\n",
      "0  7  10\n",
      "1  8  11\n",
      "2  9  12 \n",
      "\n",
      "  variable  value\n",
      "0        a      1\n",
      "1        a      2\n",
      "2        a      3\n",
      "3        b      4\n",
      "4        b      5\n",
      "5        b      6\n"
     ]
    }
   ],
   "source": [
    "import pandas as pd\n",
    "df1 = pd.DataFrame(\n",
    "    [[1, 4],\n",
    "     [2, 5],\n",
    "     [3, 6]],\n",
    "     columns = ['a', 'b'])\n",
    "print(df1, '\\n')\n",
    "\n",
    "df2 = pd.DataFrame(\n",
    "    {'c' : [7, 8, 9],\n",
    "     'd' : [10, 11, 12]})\n",
    "print(df2, '\\n')\n",
    "\n",
    "df3 = pd.melt(df1)\n",
    "print(df3)"
   ]
  },
  {
   "cell_type": "markdown",
   "id": "96bb74a2-e40c-4c89-86a1-4c4a53034add",
   "metadata": {},
   "source": [
    "### 4.2장 - 예제 4-11"
   ]
  },
  {
   "cell_type": "code",
   "execution_count": 86,
   "id": "78df4ebf-cd98-4b9b-bc8b-6b15fe6b62bf",
   "metadata": {},
   "outputs": [
    {
     "name": "stdout",
     "output_type": "stream",
     "text": [
      "   a  b\n",
      "0  1  4\n",
      "1  2  5\n",
      "2  3  6\n",
      "0  1  4\n",
      "1  2  5\n",
      "2  3  6 \n",
      "\n",
      "   a  b  a  b\n",
      "0  1  4  1  4\n",
      "1  2  5  2  5\n",
      "2  3  6  3  6 \n",
      "\n",
      "     a    b    c     d\n",
      "0  1.0  4.0  NaN   NaN\n",
      "1  2.0  5.0  NaN   NaN\n",
      "2  3.0  6.0  NaN   NaN\n",
      "0  NaN  NaN  7.0  10.0\n",
      "1  NaN  NaN  8.0  11.0\n",
      "2  NaN  NaN  9.0  12.0 \n",
      "\n",
      "   a  b  c   d\n",
      "0  1  4  7  10\n",
      "1  2  5  8  11\n",
      "2  3  6  9  12\n"
     ]
    }
   ],
   "source": [
    "import pandas as pd\n",
    "df1 = pd.DataFrame(\n",
    "    [[1, 4],\n",
    "     [2, 5],\n",
    "     [3, 6]],\n",
    "     columns = ['a', 'b'])\n",
    "\n",
    "df2 = pd.DataFrame(\n",
    "    {'c' : [7, 8, 9],\n",
    "     'd' : [10, 11, 12]})\n",
    "\n",
    "df4 = pd.concat([df1, df1], axis = 0)\n",
    "print(df4, '\\n')\n",
    "\n",
    "df4 = pd.concat([df1, df1], axis = 1)\n",
    "print(df4, '\\n')\n",
    "\n",
    "df5 = pd.concat([df1, df2], axis = 0)\n",
    "print(df5, '\\n')\n",
    "\n",
    "df5 = pd.concat([df1, df2], axis = 1)\n",
    "print(df5)"
   ]
  },
  {
   "cell_type": "markdown",
   "id": "a31f9de7-d71e-41e9-b272-ec09c0d8409a",
   "metadata": {},
   "source": [
    "### 4.2장 - 예제 4-12"
   ]
  },
  {
   "cell_type": "code",
   "execution_count": 84,
   "id": "c5047749-aae3-4284-b7a3-2d6947f3ad37",
   "metadata": {},
   "outputs": [
    {
     "name": "stdout",
     "output_type": "stream",
     "text": [
      "  x1  x2\n",
      "0  A   1\n",
      "1  B   2\n",
      "2  C   3 \n",
      "\n",
      "  x1  x3\n",
      "0  B   2\n",
      "1  C   3\n",
      "2  D   4 \n",
      "\n",
      "  x1  x2   x3\n",
      "0  A   1  NaN\n",
      "1  B   2  2.0\n",
      "2  C   3  3.0 \n",
      "\n",
      "  x1   x2  x3\n",
      "0  B  2.0   2\n",
      "1  C  3.0   3\n",
      "2  D  NaN   4 \n",
      "\n",
      "  x1  x2  x3\n",
      "0  B   2   2\n",
      "1  C   3   3\n"
     ]
    }
   ],
   "source": [
    "import pandas as pd\n",
    "dfx = pd.DataFrame(\n",
    "    [['A', 1],\n",
    "     ['B', 2],\n",
    "     ['C', 3]],\n",
    "     columns = ['x1', 'x2'])\n",
    "print(dfx, '\\n')\n",
    "\n",
    "dfy = pd.DataFrame(\n",
    "    {'x1' : ['B', 'C', 'D'],\n",
    "     'x3' : [2, 3, 4]})\n",
    "print(dfy, '\\n')\n",
    "\n",
    "print(pd.merge(dfx, dfy, how =  'left'), '\\n')\n",
    "print(pd.merge(dfx, dfy, how =  'right'), '\\n')\n",
    "print(pd.merge(dfx, dfy))"
   ]
  },
  {
   "cell_type": "markdown",
   "id": "cf4904bb-b712-422f-9d5b-f1cafac3d490",
   "metadata": {},
   "source": [
    "### 4.2장 - 예제 4-13"
   ]
  },
  {
   "cell_type": "code",
   "execution_count": 80,
   "id": "bd7c8a44-901a-4740-a234-4de8294313ff",
   "metadata": {},
   "outputs": [
    {
     "name": "stdout",
     "output_type": "stream",
     "text": [
      "     ID_num Subject  Score\n",
      "0  20225001       A     77\n",
      "1  20225001       B     80\n",
      "2  20225002       A     85\n",
      "3  20225002       B     82\n",
      "4  20225003       A     95\n",
      "5  20225003       B     90 \n",
      "\n",
      "Subject    A   B\n",
      "ID_num          \n",
      "20225001  77  80\n",
      "20225002  85  82\n",
      "20225003  95  90 \n",
      "\n",
      "ID_num\n",
      "20225001    157\n",
      "20225002    167\n",
      "20225003    185\n",
      "dtype: int64\n"
     ]
    }
   ],
   "source": [
    "import pandas as pd\n",
    "df = pd.DataFrame(\n",
    "    [['20225001', 'A', 77],\n",
    "     ['20225001', 'B', 80],\n",
    "     ['20225002', 'A', 85],\n",
    "     ['20225002', 'B', 82],\n",
    "     ['20225003', 'A', 95],\n",
    "     ['20225003', 'B', 90]],\n",
    "     columns = ['ID_num', 'Subject', 'Score'])\n",
    "print(df, '\\n')\n",
    "\n",
    "df_pivot = df.pivot(index = 'ID_num', columns = 'Subject', values = 'Score')\n",
    "print(df_pivot, '\\n')\n",
    "\n",
    "df_pivot = df.pivot(index = 'ID_num', columns = 'Subject', values = 'Score').sum(1)\n",
    "print(df_pivot)"
   ]
  },
  {
   "cell_type": "markdown",
   "id": "f34ea7db-dba9-4127-9670-9ad098864530",
   "metadata": {},
   "source": [
    "### 4.2장 - 예제 4-14"
   ]
  },
  {
   "cell_type": "code",
   "execution_count": 117,
   "id": "b3ff2ac5-6eb3-4279-ba0f-6470e3d6a49f",
   "metadata": {},
   "outputs": [
    {
     "name": "stdout",
     "output_type": "stream",
     "text": [
      "     ID_num Subject  Score\n",
      "0  20225001       A     77\n",
      "1  20225001       B     80\n",
      "2  20225002       A     85\n",
      "3  20225002       B     82\n",
      "4  20225003       A     95\n",
      "5  20225003       B     90 \n",
      "\n",
      "Subject\n",
      "A    85.666667\n",
      "B    84.000000\n",
      "Name: Score, dtype: float64\n"
     ]
    }
   ],
   "source": [
    "import pandas as pd\n",
    "df = pd.DataFrame(\n",
    "    [['20225001', 'A', 77],\n",
    "     ['20225001', 'B', 80],\n",
    "     ['20225002', 'A', 85],\n",
    "     ['20225002', 'B', 82],\n",
    "     ['20225003', 'A', 95],\n",
    "     ['20225003', 'B', 90]],\n",
    "     columns = ['ID_num', 'Subject', 'Score'])\n",
    "print(df, '\\n')\n",
    "\n",
    "group_mean = df.groupby(['Subject'])['Score'].mean()\n",
    "print(group_mean)"
   ]
  },
  {
   "cell_type": "markdown",
   "id": "757848f3-f3d9-4167-9fe5-3a8337613f69",
   "metadata": {},
   "source": [
    "### 4.2장 - pivot_table() 함수 예제"
   ]
  },
  {
   "cell_type": "code",
   "execution_count": 115,
   "id": "1b87148f-c735-4f0b-ba1f-87c5ee595a01",
   "metadata": {},
   "outputs": [
    {
     "name": "stdout",
     "output_type": "stream",
     "text": [
      "             Score\n",
      "Subject           \n",
      "A        85.666667\n",
      "B        84.000000 \n",
      "\n",
      "Subject      A     B\n",
      "ID_num              \n",
      "20225001  77.0  80.0\n",
      "20225002  85.0  82.0\n",
      "20225003  95.0  90.0\n"
     ]
    }
   ],
   "source": [
    "import pandas as pd\n",
    "df = pd.DataFrame(\n",
    "    [['20225001', 'A', 77],\n",
    "     ['20225001', 'B', 80],\n",
    "     ['20225002', 'A', 85],\n",
    "     ['20225002', 'B', 82],\n",
    "     ['20225003', 'A', 95],\n",
    "     ['20225003', 'B', 90]],\n",
    "     columns = ['ID_num', 'Subject', 'Score'])\n",
    "\n",
    "fdv1 = pd.pivot_table(df, index = 'Subject', values = 'Score')\n",
    "print(fdv1, '\\n')\n",
    "\n",
    "fdv2 = pd.pivot_table(df, index = 'ID_num', columns = 'Subject', values = 'Score')\n",
    "print(fdv2)"
   ]
  },
  {
   "cell_type": "markdown",
   "id": "1ebb75a1-0ba7-4cfa-ab3c-dcbe94e84e62",
   "metadata": {},
   "source": [
    "### 4.2장 - 예제 4-15"
   ]
  },
  {
   "cell_type": "code",
   "execution_count": 122,
   "id": "168e0486-de3d-4133-955f-20cd9faf9c12",
   "metadata": {},
   "outputs": [
    {
     "name": "stdout",
     "output_type": "stream",
     "text": [
      "     ID_num Subject  Score\n",
      "4  20225003       A     95\n",
      "5  20225003       B     90\n",
      "2  20225002       A     85\n",
      "3  20225002       B     82\n",
      "1  20225001       B     80\n",
      "0  20225001       A     77 \n",
      "\n",
      "     ID_num Subject  Score\n",
      "0  20225001       A     77\n",
      "1  20225001       B     80\n",
      "3  20225002       B     82\n",
      "2  20225002       A     85\n",
      "5  20225003       B     90\n",
      "4  20225003       A     95 \n",
      "\n",
      "     ID_num Subject  Score\n",
      "0  20225001       A     77\n",
      "2  20225002       A     85\n",
      "4  20225003       A     95\n",
      "1  20225001       B     80\n",
      "3  20225002       B     82\n",
      "5  20225003       B     90\n"
     ]
    }
   ],
   "source": [
    "import pandas as pd\n",
    "df = pd.DataFrame(\n",
    "    [['20225001', 'A', 77],\n",
    "     ['20225001', 'B', 80],\n",
    "     ['20225002', 'A', 85],\n",
    "     ['20225002', 'B', 82],\n",
    "     ['20225003', 'A', 95],\n",
    "     ['20225003', 'B', 90]],\n",
    "     columns = ['ID_num', 'Subject', 'Score'])\n",
    "\n",
    "print(df.sort_values(by = 'Score', ascending = False), '\\n')\n",
    "print(df.sort_values(by = ['Score', 'Subject']), '\\n')\n",
    "print(df.sort_values(by = ['Subject', 'Score']))"
   ]
  },
  {
   "cell_type": "markdown",
   "id": "cbc43fc7-4a7c-4c12-8516-ce4664940d2b",
   "metadata": {},
   "source": [
    "### 4.3.1장 - 예제 4-17"
   ]
  },
  {
   "cell_type": "code",
   "execution_count": 163,
   "id": "eb9710d9-3548-4de3-b1df-cf16de13ebb8",
   "metadata": {},
   "outputs": [
    {
     "name": "stdout",
     "output_type": "stream",
     "text": [
      "    이름 성별  점수  출석\n",
      "0  손선영  남  10  17\n",
      "1  김영주  여  12  17\n",
      "2  이희진  여  15  19\n",
      "3  정지민  남   7  15\n",
      "4  김윤미  여   9  14 \n",
      "\n",
      "  name  total\n",
      "0  손선영     67\n",
      "1  김영주     77\n",
      "2  이희진     94\n",
      "3  정지민     50\n",
      "4  김윤미     59\n",
      "5  고상준     95\n",
      "6  박혜진     65\n",
      "7  유인석    100\n",
      "8  최나리     56\n",
      "9  김웅기     35\n"
     ]
    },
    {
     "data": {
      "image/png": "[encoded data removed]",
      "text/plain": [
       "<Figure size 640x480 with 1 Axes>"
      ]
     },
     "metadata": {},
     "output_type": "display_data"
    }
   ],
   "source": [
    "import pandas as pd\n",
    "import matplotlib.pyplot as plt\n",
    "\n",
    "fileData = pd.read_csv(r'.\\BigData_Sources\\sample1.csv')\n",
    "print(fileData[0:5], '\\n')\n",
    "\n",
    "totalScore = fileData['점수'] * 5 + fileData['출석']\n",
    "newData = [fileData['이름'], totalScore]\n",
    "\n",
    "result = pd.concat(newData, axis = 1, keys = ['name', 'total'])\n",
    "print(result)\n",
    "result.to_csv('result1.csv')\n",
    "result.to_excel('result1.xlsx')\n",
    "\n",
    "plt.hist(totalScore, label = 'Score Data', bins = 7)\n",
    "plt.legend()\n",
    "plt.savefig('Histogram Of Score.png')\n",
    "plt.show()"
   ]
  },
  {
   "cell_type": "markdown",
   "id": "887313eb-f938-43d7-af28-58a0dfd4375e",
   "metadata": {},
   "source": [
    "### 4.4장 - 예제 4-18"
   ]
  },
  {
   "cell_type": "code",
   "execution_count": 166,
   "id": "b11df241-9c9d-4cd5-9878-75e650f4b324",
   "metadata": {},
   "outputs": [
    {
     "name": "stdout",
     "output_type": "stream",
     "text": [
      "      id sex  height  weight\n",
      "0  11021   m   164.0      59\n",
      "1  11027   m   173.0       0\n",
      "2  12206   f   157.0      56\n",
      "3  12115   f   162.0      61\n",
      "4  12204   m     NaN      73\n",
      "5  12261   f   153.0      52\n"
     ]
    }
   ],
   "source": [
    "import pandas as pd\n",
    "df = pd.DataFrame(pd.read_excel(r'.\\BigData_Sources\\missing.xlsx'))\n",
    "print(df)"
   ]
  },
  {
   "cell_type": "markdown",
   "id": "5bf73ee3-5cb0-4641-b7a1-d8513189f4ec",
   "metadata": {},
   "source": [
    "### 4.4.1장 - 예제 4-19"
   ]
  },
  {
   "cell_type": "code",
   "execution_count": 169,
   "id": "422bea24-6dc0-43dc-b8eb-0a286f766788",
   "metadata": {},
   "outputs": [
    {
     "name": "stdout",
     "output_type": "stream",
     "text": [
      "<class 'pandas.core.frame.DataFrame'>\n",
      "RangeIndex: 6 entries, 0 to 5\n",
      "Data columns (total 4 columns):\n",
      " #   Column  Non-Null Count  Dtype  \n",
      "---  ------  --------------  -----  \n",
      " 0   id      6 non-null      int64  \n",
      " 1   sex     6 non-null      object \n",
      " 2   height  5 non-null      float64\n",
      " 3   weight  6 non-null      int64  \n",
      "dtypes: float64(1), int64(2), object(1)\n",
      "memory usage: 324.0+ bytes\n",
      "None\n"
     ]
    }
   ],
   "source": [
    "import pandas as pd\n",
    "df = pd.DataFrame(pd.read_excel(r'.\\BigData_Sources\\missing.xlsx'))\n",
    "print(df.info())"
   ]
  },
  {
   "cell_type": "markdown",
   "id": "6f4dbbfe-7895-4c1a-9991-d151890dcefc",
   "metadata": {},
   "source": [
    "### 4.4.1장 - 예제 4-20"
   ]
  },
  {
   "cell_type": "code",
   "execution_count": 189,
   "id": "8d6d8ec6-b128-4dd0-80fa-0b786dc583be",
   "metadata": {},
   "outputs": [
    {
     "name": "stdout",
     "output_type": "stream",
     "text": [
      "      id    sex  height  weight\n",
      "0  False  False   False   False\n",
      "1  False  False   False   False\n",
      "2  False  False   False   False\n",
      "3  False  False   False   False\n",
      "4  False  False    True   False\n",
      "5  False  False   False   False\n"
     ]
    }
   ],
   "source": [
    "import pandas as pd\n",
    "df = pd.DataFrame(pd.read_excel(r'.\\BigData_Sources\\missing.xlsx'))\n",
    "print(df.isnull())"
   ]
  },
  {
   "cell_type": "markdown",
   "id": "9cc4d5ce-d3ab-4d65-a54f-73d303abb627",
   "metadata": {},
   "source": [
    "### 4.4.1장 - 예제 4-21"
   ]
  },
  {
   "cell_type": "code",
   "execution_count": 175,
   "id": "14ee3bce-0fc6-42c5-9c5d-758d1f287b22",
   "metadata": {},
   "outputs": [
    {
     "name": "stdout",
     "output_type": "stream",
     "text": [
      "id        0\n",
      "sex       0\n",
      "height    1\n",
      "weight    0\n",
      "dtype: int64\n"
     ]
    }
   ],
   "source": [
    "import pandas as pd\n",
    "df = pd.DataFrame(pd.read_excel(r'.\\BigData_Sources\\missing.xlsx'))\n",
    "print(df.isnull().sum())"
   ]
  },
  {
   "cell_type": "markdown",
   "id": "68324ec9-351b-465c-9004-215261519a7a",
   "metadata": {},
   "source": [
    "### 4.4.1장 - 예제 4-22"
   ]
  },
  {
   "cell_type": "code",
   "execution_count": 178,
   "id": "ec50cee3-e001-4405-9778-b12a91b6c04d",
   "metadata": {},
   "outputs": [
    {
     "name": "stdout",
     "output_type": "stream",
     "text": [
      "     id   sex  height  weight\n",
      "0  True  True    True    True\n",
      "1  True  True    True    True\n",
      "2  True  True    True    True\n",
      "3  True  True    True    True\n",
      "4  True  True   False    True\n",
      "5  True  True    True    True\n"
     ]
    }
   ],
   "source": [
    "import pandas as pd\n",
    "df = pd.DataFrame(pd.read_excel(r'.\\BigData_Sources\\missing.xlsx'))\n",
    "print(df.notnull())"
   ]
  },
  {
   "cell_type": "markdown",
   "id": "dee7d1b6-0c5e-4c04-a2e1-bedf823c0a02",
   "metadata": {},
   "source": [
    "### 4.4.2장 - 예제 4-23"
   ]
  },
  {
   "cell_type": "code",
   "execution_count": 181,
   "id": "0c1f59a2-839e-491c-9664-fd4224b45cbe",
   "metadata": {},
   "outputs": [
    {
     "name": "stdout",
     "output_type": "stream",
     "text": [
      "height : 161.8\n",
      "weight : 50.166666666666664\n"
     ]
    }
   ],
   "source": [
    "import pandas as pd\n",
    "df = pd.DataFrame(pd.read_excel(r'.\\BigData_Sources\\missing.xlsx'))\n",
    "print('height :', df.height.mean())\n",
    "print('weight :', df.weight.mean())"
   ]
  },
  {
   "cell_type": "markdown",
   "id": "298dff83-7112-4425-ba84-a0a46989f635",
   "metadata": {},
   "source": [
    "### 4.4.2장 - 예제 4-24"
   ]
  },
  {
   "cell_type": "code",
   "execution_count": 187,
   "id": "206ec6b6-7eeb-404d-8288-3581c6910374",
   "metadata": {},
   "outputs": [
    {
     "name": "stdout",
     "output_type": "stream",
     "text": [
      "      id sex  height  weight\n",
      "0  11021   m   164.0      59\n",
      "1  11027   m   173.0       0\n",
      "2  12206   f   157.0      56\n",
      "3  12115   f   162.0      61\n",
      "4  12204   m     NaN      73\n",
      "5  12261   f   153.0      52 \n",
      "\n",
      "height : 161.8\n",
      "weight : 50.166666666666664\n",
      "      id sex  height  weight\n",
      "0  11021   m   164.0      59\n",
      "1  11027   m   173.0       0\n",
      "2  12206   f   157.0      56\n",
      "3  12115   f   162.0      61\n",
      "4  12204   m   161.8      73\n",
      "5  12261   f   153.0      52\n"
     ]
    }
   ],
   "source": [
    "import pandas as pd\n",
    "df = pd.DataFrame(pd.read_excel(r'.\\BigData_Sources\\missing.xlsx'))\n",
    "print(df, '\\n')\n",
    "print('height :', df.height.mean())\n",
    "print('weight :', df.weight.mean())\n",
    "\n",
    "df = df.fillna(df.height.mean())\n",
    "print(df)"
   ]
  },
  {
   "cell_type": "markdown",
   "id": "a959fab4-2c47-40ae-8021-59ca0196b3f9",
   "metadata": {},
   "source": [
    "### 4.4.2장 - 예제 4-25"
   ]
  },
  {
   "cell_type": "code",
   "execution_count": 193,
   "id": "ad74f47c-130c-4f82-9f03-98fdab0268e3",
   "metadata": {},
   "outputs": [
    {
     "name": "stdout",
     "output_type": "stream",
     "text": [
      "      id sex  height  weight\n",
      "0  11021   m   164.0      59\n",
      "1  11027   m   173.0       0\n",
      "2  12206   f   157.0      56\n",
      "3  12115   f   162.0      61\n",
      "4  12204   m     NaN      73\n",
      "5  12261   f   153.0      52 \n",
      "\n",
      "      id sex  height  weight\n",
      "0  11021   m   164.0    59.0\n",
      "1  11027   m   173.0     NaN\n",
      "2  12206   f   157.0    56.0\n",
      "3  12115   f   162.0    61.0\n",
      "4  12204   m     NaN    73.0\n",
      "5  12261   f   153.0    52.0\n"
     ]
    }
   ],
   "source": [
    "import pandas as pd\n",
    "import numpy as np\n",
    "df = pd.DataFrame(pd.read_excel(r'.\\BigData_Sources\\missing.xlsx'))\n",
    "print(df, '\\n')\n",
    "\n",
    "df = df.replace(0, np.nan)\n",
    "print(df)"
   ]
  },
  {
   "cell_type": "markdown",
   "id": "b38665ef-b65d-488a-a082-9622875b3f18",
   "metadata": {},
   "source": [
    "### 4.4.3장 - 예제 4-26"
   ]
  },
  {
   "cell_type": "code",
   "execution_count": 197,
   "id": "fc02c2cf-1fd2-49b1-a34a-859c79144f6e",
   "metadata": {},
   "outputs": [
    {
     "name": "stdout",
     "output_type": "stream",
     "text": [
      "      id sex  height  weight\n",
      "0  11021   m   164.0      59\n",
      "1  11027   m   173.0       0\n",
      "2  12206   f   157.0      56\n",
      "3  12115   f   162.0      61\n",
      "4  12204   m     NaN      73\n",
      "5  12261   f   153.0      52 \n",
      "\n",
      "      id sex  height  weight\n",
      "0  11021   m   164.0      59\n",
      "1  11027   m   173.0       0\n",
      "2  12206   f   157.0      56\n",
      "3  12115   f   162.0      61\n",
      "5  12261   f   153.0      52\n"
     ]
    }
   ],
   "source": [
    "import pandas as pd\n",
    "df = pd.DataFrame(pd.read_excel(r'.\\BigData_Sources\\missing.xlsx'))\n",
    "print(df, '\\n')\n",
    "\n",
    "df = df.dropna(axis = 0)\n",
    "print(df)"
   ]
  },
  {
   "cell_type": "markdown",
   "id": "645f46c9-8a82-4e64-b83f-49640b63a389",
   "metadata": {},
   "source": [
    "### 4.4.3장 - 예제 4-27"
   ]
  },
  {
   "cell_type": "code",
   "execution_count": 199,
   "id": "a6941945-79c6-4f6f-9640-442784a698e5",
   "metadata": {},
   "outputs": [
    {
     "name": "stdout",
     "output_type": "stream",
     "text": [
      "      id sex  height  weight\n",
      "0  11021   m   164.0      59\n",
      "1  11027   m   173.0       0\n",
      "2  12206   f   157.0      56\n",
      "3  12115   f   162.0      61\n",
      "4  12204   m     NaN      73\n",
      "5  12261   f   153.0      52 \n",
      "\n",
      "      id sex  weight\n",
      "0  11021   m      59\n",
      "1  11027   m       0\n",
      "2  12206   f      56\n",
      "3  12115   f      61\n",
      "4  12204   m      73\n",
      "5  12261   f      52\n"
     ]
    }
   ],
   "source": [
    "import pandas as pd\n",
    "df = pd.DataFrame(pd.read_excel(r'.\\BigData_Sources\\missing.xlsx'))\n",
    "print(df, '\\n')\n",
    "\n",
    "df = df.dropna(axis = 1)\n",
    "print(df)"
   ]
  }
 ],
 "metadata": {
  "kernelspec": {
   "display_name": "Python 3 (ipykernel)",
   "language": "python",
   "name": "python3"
  },
  "language_info": {
   "codemirror_mode": {
    "name": "ipython",
    "version": 3
   },
   "file_extension": ".py",
   "mimetype": "text/x-python",
   "name": "python",
   "nbconvert_exporter": "python",
   "pygments_lexer": "ipython3",
   "version": "3.12.4"
  }
 },
 "nbformat": 4,
 "nbformat_minor": 5
}
