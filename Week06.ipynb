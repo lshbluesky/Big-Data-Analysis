{
 "cells": [
  {
   "cell_type": "markdown",
   "id": "5044592d-c4b7-435a-b1ab-b8dd6613a0e5",
   "metadata": {},
   "source": [
    "## 빅데이터 컴퓨팅 - 6주차"
   ]
  },
  {
   "cell_type": "markdown",
   "id": "c08d6286-1bc5-4991-92a0-5151d8a88a45",
   "metadata": {},
   "source": [
    "### Lab : 성적 처리 프로그램 예제"
   ]
  },
  {
   "cell_type": "code",
   "execution_count": 3,
   "id": "45753a0c-7631-4772-8577-7464a160a5cf",
   "metadata": {},
   "outputs": [
    {
     "name": "stdin",
     "output_type": "stream",
     "text": [
      "성적을 입력하시오. : 80\n",
      "성적을 입력하시오. : 85\n",
      "성적을 입력하시오. : 90\n",
      "성적을 입력하시오. : 95\n",
      "성적을 입력하시오. : 100\n"
     ]
    },
    {
     "name": "stdout",
     "output_type": "stream",
     "text": [
      "성적 평균 : 90.0\n",
      "최대 점수 : 100\n",
      "최소 점수 : 80\n",
      "80점 이상 받은 과목수 : 5\n"
     ]
    }
   ],
   "source": [
    "STUDENTS = 5\n",
    "lst = []\n",
    "count = 0\n",
    "\n",
    "for i in range(STUDENTS):\n",
    "    value = int(input(\"성적을 입력하시오. :\"))\n",
    "    lst.append(value)\n",
    "\n",
    "print(\"성적 평균 :\", sum(lst) / len(lst))\n",
    "print(\"최대 점수 :\", max(lst))\n",
    "print(\"최소 점수 :\", min(lst))\n",
    "\n",
    "for score in lst:\n",
    "    if score >= 80:\n",
    "        count += 1\n",
    "\n",
    "print(\"80점 이상 받은 과목수 :\", count)"
   ]
  },
  {
   "cell_type": "markdown",
   "id": "86249fe2-885c-46d0-b753-5d0712549f8b",
   "metadata": {},
   "source": [
    "### Lab : 친구 관리 프로그램 예제"
   ]
  },
  {
   "cell_type": "code",
   "execution_count": 19,
   "id": "9abd10d5-31e7-4f1c-a7b9-cd6f1bd3fc2a",
   "metadata": {},
   "outputs": [
    {
     "name": "stdout",
     "output_type": "stream",
     "text": [
      "--------------------\n",
      "1. 친구 리스트 출력\n",
      "2. 친구추가\n",
      "3. 친구삭제\n",
      "4. 이름변경\n",
      "9. 종료\n"
     ]
    },
    {
     "name": "stdin",
     "output_type": "stream",
     "text": [
      "메뉴를 선택하시오 :  1\n"
     ]
    },
    {
     "name": "stdout",
     "output_type": "stream",
     "text": [
      "[]\n",
      "--------------------\n",
      "1. 친구 리스트 출력\n",
      "2. 친구추가\n",
      "3. 친구삭제\n",
      "4. 이름변경\n",
      "9. 종료\n"
     ]
    },
    {
     "name": "stdin",
     "output_type": "stream",
     "text": [
      "메뉴를 선택하시오 :  2\n",
      "이름을 입력하시오. :  Kim\n"
     ]
    },
    {
     "name": "stdout",
     "output_type": "stream",
     "text": [
      "--------------------\n",
      "1. 친구 리스트 출력\n",
      "2. 친구추가\n",
      "3. 친구삭제\n",
      "4. 이름변경\n",
      "9. 종료\n"
     ]
    },
    {
     "name": "stdin",
     "output_type": "stream",
     "text": [
      "메뉴를 선택하시오 :  2\n",
      "이름을 입력하시오. :  Lee\n"
     ]
    },
    {
     "name": "stdout",
     "output_type": "stream",
     "text": [
      "--------------------\n",
      "1. 친구 리스트 출력\n",
      "2. 친구추가\n",
      "3. 친구삭제\n",
      "4. 이름변경\n",
      "9. 종료\n"
     ]
    },
    {
     "name": "stdin",
     "output_type": "stream",
     "text": [
      "메뉴를 선택하시오 :  2\n",
      "이름을 입력하시오. :  Park\n"
     ]
    },
    {
     "name": "stdout",
     "output_type": "stream",
     "text": [
      "--------------------\n",
      "1. 친구 리스트 출력\n",
      "2. 친구추가\n",
      "3. 친구삭제\n",
      "4. 이름변경\n",
      "9. 종료\n"
     ]
    },
    {
     "name": "stdin",
     "output_type": "stream",
     "text": [
      "메뉴를 선택하시오 :  1\n"
     ]
    },
    {
     "name": "stdout",
     "output_type": "stream",
     "text": [
      "['Kim', 'Lee', 'Park']\n",
      "--------------------\n",
      "1. 친구 리스트 출력\n",
      "2. 친구추가\n",
      "3. 친구삭제\n",
      "4. 이름변경\n",
      "9. 종료\n"
     ]
    },
    {
     "name": "stdin",
     "output_type": "stream",
     "text": [
      "메뉴를 선택하시오 :  3\n",
      "삭제할 이름을 입력하시오. :  Lee\n"
     ]
    },
    {
     "name": "stdout",
     "output_type": "stream",
     "text": [
      "--------------------\n",
      "1. 친구 리스트 출력\n",
      "2. 친구추가\n",
      "3. 친구삭제\n",
      "4. 이름변경\n",
      "9. 종료\n"
     ]
    },
    {
     "name": "stdin",
     "output_type": "stream",
     "text": [
      "메뉴를 선택하시오 :  4\n",
      "변경할 이름을 입력하시오. :  Park\n",
      "새로운 이름을 입력하시오. :  Scott\n"
     ]
    },
    {
     "name": "stdout",
     "output_type": "stream",
     "text": [
      "--------------------\n",
      "1. 친구 리스트 출력\n",
      "2. 친구추가\n",
      "3. 친구삭제\n",
      "4. 이름변경\n",
      "9. 종료\n"
     ]
    },
    {
     "name": "stdin",
     "output_type": "stream",
     "text": [
      "메뉴를 선택하시오 :  1\n"
     ]
    },
    {
     "name": "stdout",
     "output_type": "stream",
     "text": [
      "['Kim', 'Scott']\n",
      "--------------------\n",
      "1. 친구 리스트 출력\n",
      "2. 친구추가\n",
      "3. 친구삭제\n",
      "4. 이름변경\n",
      "9. 종료\n"
     ]
    },
    {
     "name": "stdin",
     "output_type": "stream",
     "text": [
      "메뉴를 선택하시오 :  9\n"
     ]
    }
   ],
   "source": [
    "menu = 0\n",
    "friends = []\n",
    "\n",
    "while menu != 9:\n",
    "    print(\"-\" * 20)\n",
    "    print(\"1. 친구 리스트 출력\")\n",
    "    print(\"2. 친구추가\")\n",
    "    print(\"3. 친구삭제\")\n",
    "    print(\"4. 이름변경\")\n",
    "    print(\"9. 종료\")\n",
    "    menu = int(input(\"메뉴를 선택하시오 : \"))\n",
    "\n",
    "    if menu == 1:\n",
    "        print(friends)\n",
    "    elif menu == 2:\n",
    "        name = input(\"이름을 입력하시오. : \")\n",
    "        friends.append(name)\n",
    "    elif menu == 3:\n",
    "        del_name = input(\"삭제할 이름을 입력하시오. : \")\n",
    "        if del_name in friends:\n",
    "            friends.remove(del_name)\n",
    "        else:\n",
    "            print(\"이름이 발견되지 않았습니다.\")\n",
    "    elif menu == 4:\n",
    "        old_name = input(\"변경할 이름을 입력하시오. : \")\n",
    "        if old_name in friends:\n",
    "            index = friends.index(old_name)\n",
    "            new_name = input(\"새로운 이름을 입력하시오. : \")\n",
    "            friends[index] = new_name\n",
    "        else:\n",
    "            print(\"이름이 발견되지 않았습니다.\")"
   ]
  },
  {
   "cell_type": "code",
   "execution_count": 33,
   "id": "2cf140a8-fbcc-4116-b8c1-8b9fa8f505da",
   "metadata": {},
   "outputs": [
    {
     "name": "stdout",
     "output_type": "stream",
     "text": [
      "True\n"
     ]
    }
   ],
   "source": [
    "list1 = [ 1, 2, 3 ]\n",
    "list2 = [ 1, 2, 3 ]\n",
    "print(list1 >= list2)"
   ]
  },
  {
   "cell_type": "markdown",
   "id": "bad0d07e-3067-430c-ad73-2d45e8f1692e",
   "metadata": {},
   "source": [
    "### Lab : 누적값 리스트 만들기 예제"
   ]
  },
  {
   "cell_type": "code",
   "execution_count": 41,
   "id": "d1a82f2a-6fd7-4d8f-8eec-06013ea73190",
   "metadata": {},
   "outputs": [
    {
     "name": "stdout",
     "output_type": "stream",
     "text": [
      "원래의 리스트 : [10, 20, 30, 40, 50]\n",
      "새로운 리스트 : [10, 30, 60, 100, 150]\n"
     ]
    }
   ],
   "source": [
    "list1 = [10, 20, 30, 40, 50]\n",
    "list2 = [sum(list1[0:i+1]) for i in range(0, len(list1))]\n",
    "\n",
    "print(\"원래의 리스트 :\", list1)\n",
    "print(\"새로운 리스트 :\", list2)"
   ]
  },
  {
   "cell_type": "markdown",
   "id": "ee6792fd-9714-4a27-bbe9-ab70392f5de9",
   "metadata": {},
   "source": [
    "### 열 합계와 행 합계를 계산하는 예제"
   ]
  },
  {
   "cell_type": "code",
   "execution_count": 47,
   "id": "dc2c7d9c-ab60-482f-b8f5-a14fe6bb2efc",
   "metadata": {},
   "outputs": [
    {
     "name": "stdout",
     "output_type": "stream",
     "text": [
      "두 번째 행의 합계 : 40\n",
      "세 번째 열의 합계 : 24\n"
     ]
    }
   ],
   "source": [
    "s = [[1, 2, 3, 4, 5],\n",
    "    [6, 7, 8, 9, 10],\n",
    "    [11, 12, 13, 14, 15]]\n",
    "\n",
    "rows = len(s)\n",
    "cols = len(s[0])\n",
    "\n",
    "i = 1\n",
    "total = 0\n",
    "for j in range(cols):\n",
    "    total = total + s[i][j]\n",
    "print(\"두 번째 행의 합계 :\", total)\n",
    "\n",
    "j = 2\n",
    "total2 = 0\n",
    "for i in range(rows):\n",
    "    total2 = total2 + s[i][j]\n",
    "print(\"세 번째 열의 합계 :\", total2)"
   ]
  }
 ],
 "metadata": {
  "kernelspec": {
   "display_name": "Python 3 (ipykernel)",
   "language": "python",
   "name": "python3"
  },
  "language_info": {
   "codemirror_mode": {
    "name": "ipython",
    "version": 3
   },
   "file_extension": ".py",
   "mimetype": "text/x-python",
   "name": "python",
   "nbconvert_exporter": "python",
   "pygments_lexer": "ipython3",
   "version": "3.12.4"
  }
 },
 "nbformat": 4,
 "nbformat_minor": 5
}
