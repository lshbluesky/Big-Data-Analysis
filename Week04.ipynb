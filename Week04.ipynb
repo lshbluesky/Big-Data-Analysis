{
 "cells": [
  {
   "cell_type": "markdown",
   "id": "f56b75ab-0ee1-4cfc-8e33-42e632f41c2d",
   "metadata": {},
   "source": [
    "## 빅데이터 컴퓨팅 - 4주차\n",
    "### 산수 문제 예제"
   ]
  },
  {
   "cell_type": "code",
   "execution_count": 11,
   "id": "f9a6217e-2fdd-4988-a7ae-cdc0fa2a9474",
   "metadata": {},
   "outputs": [
    {
     "name": "stdin",
     "output_type": "stream",
     "text": [
      "46 + 55 =  101\n"
     ]
    },
    {
     "name": "stdout",
     "output_type": "stream",
     "text": [
      "True\n"
     ]
    }
   ],
   "source": [
    "import random\n",
    "x = random.randint(1, 100)\n",
    "y = random.randint(1, 100)\n",
    "\n",
    "answer = int(input(f\"{x} + {y} = \"))\n",
    "\n",
    "flag = (answer == (x + y))\n",
    "print(flag)"
   ]
  },
  {
   "cell_type": "markdown",
   "id": "e6f3ab8b-a72b-48b8-bc3e-f57142a00500",
   "metadata": {},
   "source": [
    "### 온도에 따른 물의 상태를 출력하는 예제"
   ]
  },
  {
   "cell_type": "code",
   "execution_count": 22,
   "id": "daa33c14-1882-4a18-90da-414dd095c003",
   "metadata": {},
   "outputs": [
    {
     "name": "stdin",
     "output_type": "stream",
     "text": [
      "온도를 입력하시오. :  27.8\n"
     ]
    },
    {
     "name": "stdout",
     "output_type": "stream",
     "text": [
      "물의 상태는 액체입니다.\n"
     ]
    }
   ],
   "source": [
    "temp = float(input('온도를 입력하시오. : '))\n",
    "\n",
    "if temp <= 0:\n",
    "    print('물의 상태는 얼음입니다.')\n",
    "elif temp > 0 and temp < 100:\n",
    "    print('물의 상태는 액체입니다.')\n",
    "else:\n",
    "    print('물의 상태는 기체입니다.')"
   ]
  },
  {
   "cell_type": "markdown",
   "id": "96ae3c25-ff25-4d16-92ea-3ed324aaebc1",
   "metadata": {},
   "source": [
    "### 성적을 받아서 학점을 출력하는 예제"
   ]
  },
  {
   "cell_type": "code",
   "execution_count": 26,
   "id": "4906bb9f-cd42-4e2f-a90f-a1735227c3b0",
   "metadata": {},
   "outputs": [
    {
     "name": "stdin",
     "output_type": "stream",
     "text": [
      "성적을 입력하시오. :  95\n"
     ]
    },
    {
     "name": "stdout",
     "output_type": "stream",
     "text": [
      "학점 A\n"
     ]
    }
   ],
   "source": [
    "score = int(input('성적을 입력하시오. : '))\n",
    "\n",
    "if score >= 90:\n",
    "    print('학점 A')\n",
    "elif score >= 80:\n",
    "    print('학점 B')\n",
    "elif score >= 70:\n",
    "    print('학점 C')\n",
    "elif score >= 60:\n",
    "    print('학점 D')\n",
    "else:\n",
    "    print('학점 F')"
   ]
  },
  {
   "cell_type": "markdown",
   "id": "fb2c4ecb-8f1a-4e8c-bc1f-e998de4e83fe",
   "metadata": {},
   "source": [
    "### 오늘의 운세를 출력하는 예제"
   ]
  },
  {
   "cell_type": "code",
   "execution_count": 59,
   "id": "5600ea0d-112f-4acd-89dd-c02ec97baa25",
   "metadata": {},
   "outputs": [
    {
     "name": "stdout",
     "output_type": "stream",
     "text": [
      "행운의 매직볼로 오늘의 운세를 출력합니다.\n",
      "다시 질문해주세요.\n"
     ]
    }
   ],
   "source": [
    "import random\n",
    "\n",
    "print('행운의 매직볼로 오늘의 운세를 출력합니다.')\n",
    "answer = random.randint(1, 8)\n",
    "\n",
    "if answer == 1:\n",
    "    print('확실히 이루어집니다.')\n",
    "elif answer == 2:\n",
    "    print('좋아 보이네요.')\n",
    "elif answer == 3:\n",
    "    print('믿으셔도 됩니다.')\n",
    "elif answer == 4:\n",
    "    print('저의 생각에는 No 입니다.')\n",
    "else:\n",
    "    print('다시 질문해주세요.')"
   ]
  },
  {
   "cell_type": "markdown",
   "id": "9f961d37-64a6-4256-9e90-0184d1e40891",
   "metadata": {},
   "source": [
    "### 반복문을 사용한 합 구하기 예제"
   ]
  },
  {
   "cell_type": "code",
   "execution_count": 98,
   "id": "2f3d6bae-d391-484b-89d6-68775e6bd633",
   "metadata": {},
   "outputs": [
    {
     "name": "stdout",
     "output_type": "stream",
     "text": [
      "합 : 55\n"
     ]
    }
   ],
   "source": [
    "sum = 0\n",
    "n = 10\n",
    "\n",
    "for i in range(1, n+1):\n",
    "    sum = sum + i\n",
    "\n",
    "print(\"합 :\", sum)"
   ]
  },
  {
   "cell_type": "markdown",
   "id": "b2e1332e-34cc-4a65-9dfc-8c6c3d7452c3",
   "metadata": {},
   "source": [
    "### 팩토리얼을 구하는 예제"
   ]
  },
  {
   "cell_type": "code",
   "execution_count": 75,
   "id": "380bf75e-6285-4ca6-a2c4-affc055a8688",
   "metadata": {},
   "outputs": [
    {
     "name": "stdin",
     "output_type": "stream",
     "text": [
      "정수를 입력하시오. :  5\n"
     ]
    },
    {
     "name": "stdout",
     "output_type": "stream",
     "text": [
      "5!의 값 : 120\n"
     ]
    }
   ],
   "source": [
    "n = int(input('정수를 입력하시오. : '))\n",
    "fact = 1\n",
    "\n",
    "for i in range(1, n+1):\n",
    "    fact = fact * i\n",
    "\n",
    "print('%d!의 값 : %d' % (n, fact))"
   ]
  },
  {
   "cell_type": "markdown",
   "id": "66002181-1847-4939-abb3-605226bc72ce",
   "metadata": {},
   "source": [
    "### while 문을 사용한 합 구하기 예제"
   ]
  },
  {
   "cell_type": "code",
   "execution_count": 77,
   "id": "cd7358bf-96f3-4bde-b011-5354a3c91e46",
   "metadata": {},
   "outputs": [
    {
     "name": "stdout",
     "output_type": "stream",
     "text": [
      "합계 : 55\n"
     ]
    }
   ],
   "source": [
    "i = 1\n",
    "sum = 0\n",
    "\n",
    "while i <= 10:\n",
    "    sum = sum + i\n",
    "    i = i + 1\n",
    "\n",
    "print('합계 :', sum)"
   ]
  },
  {
   "cell_type": "markdown",
   "id": "94bf2eca-667f-426e-b1f6-6a398a80c2ad",
   "metadata": {},
   "source": [
    "### 구구단 예제"
   ]
  },
  {
   "cell_type": "code",
   "execution_count": 96,
   "id": "45f84bed-3852-4fc8-bc1e-ef7935babbe2",
   "metadata": {},
   "outputs": [
    {
     "name": "stdin",
     "output_type": "stream",
     "text": [
      "원하는 구구단 입력 :  3\n"
     ]
    },
    {
     "name": "stdout",
     "output_type": "stream",
     "text": [
      "3 * 1 = 3\n",
      "3 * 2 = 6\n",
      "3 * 3 = 9\n",
      "3 * 4 = 12\n",
      "3 * 5 = 15\n",
      "3 * 6 = 18\n",
      "3 * 7 = 21\n",
      "3 * 8 = 24\n",
      "3 * 9 = 27\n"
     ]
    }
   ],
   "source": [
    "dan = int(input('원하는 구구단 입력 : '))\n",
    "i = 1\n",
    "\n",
    "while i <= 9:\n",
    "    print('%d * %d = %d' % (dan, i, dan * i))\n",
    "    i = i + 1"
   ]
  },
  {
   "cell_type": "markdown",
   "id": "c83eaed3-518b-4335-bd8f-2988f485e431",
   "metadata": {},
   "source": [
    "### 숫자 맞추기 예제"
   ]
  },
  {
   "cell_type": "code",
   "execution_count": 84,
   "id": "88f7ff3b-77fd-4619-8f7a-f23d8ab66e0f",
   "metadata": {},
   "outputs": [
    {
     "name": "stdout",
     "output_type": "stream",
     "text": [
      "1부터 100 사이의 숫자를 맞추시오.\n"
     ]
    },
    {
     "name": "stdin",
     "output_type": "stream",
     "text": [
      "숫자를 입력하시오. :  50\n"
     ]
    },
    {
     "name": "stdout",
     "output_type": "stream",
     "text": [
      "너무 낮음!\n"
     ]
    },
    {
     "name": "stdin",
     "output_type": "stream",
     "text": [
      "숫자를 입력하시오. :  75\n"
     ]
    },
    {
     "name": "stdout",
     "output_type": "stream",
     "text": [
      "너무 낮음!\n"
     ]
    },
    {
     "name": "stdin",
     "output_type": "stream",
     "text": [
      "숫자를 입력하시오. :  80\n"
     ]
    },
    {
     "name": "stdout",
     "output_type": "stream",
     "text": [
      "너무 낮음!\n"
     ]
    },
    {
     "name": "stdin",
     "output_type": "stream",
     "text": [
      "숫자를 입력하시오. :  85\n"
     ]
    },
    {
     "name": "stdout",
     "output_type": "stream",
     "text": [
      "너무 높음!\n"
     ]
    },
    {
     "name": "stdin",
     "output_type": "stream",
     "text": [
      "숫자를 입력하시오. :  83\n"
     ]
    },
    {
     "name": "stdout",
     "output_type": "stream",
     "text": [
      "너무 높음!\n"
     ]
    },
    {
     "name": "stdin",
     "output_type": "stream",
     "text": [
      "숫자를 입력하시오. :  82\n"
     ]
    },
    {
     "name": "stdout",
     "output_type": "stream",
     "text": [
      "너무 높음!\n"
     ]
    },
    {
     "name": "stdin",
     "output_type": "stream",
     "text": [
      "숫자를 입력하시오. :  81\n"
     ]
    },
    {
     "name": "stdout",
     "output_type": "stream",
     "text": [
      "축하합니다. 시도 횟수 : 7\n"
     ]
    }
   ],
   "source": [
    "import random\n",
    "\n",
    "tries = 0\n",
    "guess = 0\n",
    "answer = random.randint(1, 100)\n",
    "\n",
    "print('1부터 100 사이의 숫자를 맞추시오.')\n",
    "\n",
    "while guess != answer:\n",
    "    guess = int(input('숫자를 입력하시오. : '))\n",
    "    tries = tries + 1\n",
    "    if guess < answer:\n",
    "        print('너무 낮음!')\n",
    "    elif guess > answer:\n",
    "        print('너무 높음!')\n",
    "\n",
    "if guess == answer:\n",
    "    print('축하합니다. 시도 횟수 :', tries)\n",
    "else:\n",
    "    print('정답은', answer)"
   ]
  },
  {
   "cell_type": "markdown",
   "id": "8e322caa-57fa-4170-8b58-6f89516ca04b",
   "metadata": {},
   "source": [
    "### continue 구문 예제"
   ]
  },
  {
   "cell_type": "code",
   "execution_count": 88,
   "id": "a246d1a9-aee6-43dd-9d52-c86ca58a39a0",
   "metadata": {},
   "outputs": [
    {
     "name": "stdout",
     "output_type": "stream",
     "text": [
      "1 2 4 5 7 8 10 "
     ]
    }
   ],
   "source": [
    "for i in range(1, 11):\n",
    "    if i%3 == 0:\n",
    "        continue\n",
    "    print(i, end=\" \")"
   ]
  },
  {
   "cell_type": "markdown",
   "id": "5a07abc5-dc91-404d-b966-4899b4c9a4ff",
   "metadata": {},
   "source": [
    "### 소수 찾기 예제"
   ]
  },
  {
   "cell_type": "code",
   "execution_count": 94,
   "id": "1ba392a8-59f5-49df-9fe3-48e605d8f484",
   "metadata": {},
   "outputs": [
    {
     "name": "stdout",
     "output_type": "stream",
     "text": [
      "2 3 5 7 11 13 17 19 23 29 31 37 41 43 47 53 59 61 67 71 73 79 83 89 97 101 103 107 109 113 127 131 137 139 149 151 157 163 167 173 179 181 191 193 197 199 211 223 227 229 "
     ]
    }
   ],
   "source": [
    "N_PRIMES = 50\n",
    "num = 2\n",
    "cnt = 0\n",
    "\n",
    "while cnt < N_PRIMES:\n",
    "    divisor = 2\n",
    "    prime = True\n",
    "\n",
    "    while divisor < num:\n",
    "        if num % divisor == 0:\n",
    "            prime = False\n",
    "            break\n",
    "        divisor += 1\n",
    "    \n",
    "    if prime:\n",
    "        cnt += 1\n",
    "        print(num, end=\" \")\n",
    "    num += 1"
   ]
  }
 ],
 "metadata": {
  "kernelspec": {
   "display_name": "Python 3 (ipykernel)",
   "language": "python",
   "name": "python3"
  },
  "language_info": {
   "codemirror_mode": {
    "name": "ipython",
    "version": 3
   },
   "file_extension": ".py",
   "mimetype": "text/x-python",
   "name": "python",
   "nbconvert_exporter": "python",
   "pygments_lexer": "ipython3",
   "version": "3.12.4"
  }
 },
 "nbformat": 4,
 "nbformat_minor": 5
}
